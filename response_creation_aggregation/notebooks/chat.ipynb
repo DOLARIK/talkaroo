{
 "cells": [
  {
   "cell_type": "markdown",
   "id": "5d192615-9965-4f62-8137-4cfcfd6a5a28",
   "metadata": {},
   "source": [
    "# Analyse Chat Mechanism"
   ]
  },
  {
   "cell_type": "code",
   "execution_count": 1,
   "id": "f3a7369f-c729-423a-9eb4-f0261e1224a3",
   "metadata": {},
   "outputs": [
    {
     "name": "stdout",
     "output_type": "stream",
     "text": [
      "Response from API:\n",
      "{'response': \"My friend, that's a deep question! Various philosophies, religions, and individual beliefs hold different interpretations. Some say it's to find happiness, others suggest it's to love or to learn and grow. The meaning of life can be a personal journey. What do you think it is?\", 'user_id': 'U0001'}\n"
     ]
    }
   ],
   "source": [
    "import requests\n",
    "\n",
    "def interact_with_api(user_id, user_ask):\n",
    "    # Define the API endpoint\n",
    "    api_url = \"http://localhost:5000/ask\"  # Update the host/port if different\n",
    "\n",
    "    # Create the request payload\n",
    "    payload = {\n",
    "        'user_id': user_id,\n",
    "        'ask': user_ask\n",
    "    }\n",
    "\n",
    "    try:\n",
    "        # Send a POST request to the API\n",
    "        response = requests.post(api_url, json=payload)\n",
    "\n",
    "        # Check if the request was successful\n",
    "        if response.status_code == 200:\n",
    "            response_data = response.json()\n",
    "            print(\"Response from API:\")\n",
    "            print(response_data)\n",
    "        else:\n",
    "            print(f\"Error: Received status code {response.status_code}\")\n",
    "            print(response.text)\n",
    "    except requests.exceptions.RequestException as e:\n",
    "        print(f\"An error occurred: {e}\")\n",
    "\n",
    "# Example usage\n",
    "if __name__ == \"__main__\":\n",
    "    # Replace with appropriate user_id and question\n",
    "    user_id = \"U0001\"\n",
    "    user_ask = \"What is the meaning of life?\"\n",
    "    \n",
    "    interact_with_api(user_id, user_ask)\n"
   ]
  },
  {
   "cell_type": "markdown",
   "id": "f25056f5-a295-413d-89d7-4727614d0329",
   "metadata": {},
   "source": []
  }
 ],
 "metadata": {
  "kernelspec": {
   "display_name": "Python 3 (ipykernel)",
   "language": "python",
   "name": "python3"
  },
  "language_info": {
   "codemirror_mode": {
    "name": "ipython",
    "version": 3
   },
   "file_extension": ".py",
   "mimetype": "text/x-python",
   "name": "python",
   "nbconvert_exporter": "python",
   "pygments_lexer": "ipython3",
   "version": "3.11.11"
  }
 },
 "nbformat": 4,
 "nbformat_minor": 5
}
