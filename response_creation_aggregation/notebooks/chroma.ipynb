{
 "cells": [
  {
   "cell_type": "markdown",
   "id": "4a4bd4b5-573a-4eae-8cf6-16bc638b4ea6",
   "metadata": {},
   "source": [
    "# Visualize Chroma DB"
   ]
  },
  {
   "cell_type": "code",
   "execution_count": 1,
   "id": "b8b7a96d-6d23-4bf9-a637-4dd3d7752ddf",
   "metadata": {},
   "outputs": [],
   "source": [
    "from endpoint.research.chroma_db import ChromaDB"
   ]
  },
  {
   "cell_type": "code",
   "execution_count": 6,
   "id": "80a792af-fd10-44b2-8066-a45b7cfc4e22",
   "metadata": {},
   "outputs": [
    {
     "data": {
      "text/plain": [
       "[{'role': 'user', 'content': 'himake the answer short but engaging'},\n",
       " {'role': 'assistant',\n",
       "  'content': \"Absolutely! I'll keep that in mind for our chats. Anything on your mind that you'd like to discuss or know more about right now?\"}]"
      ]
     },
     "execution_count": 6,
     "metadata": {},
     "output_type": "execute_result"
    }
   ],
   "source": [
    "db = ChromaDB('QkgUqxf5yTf3xq7DRZ4Ls9EbBvS2')\n",
    "db.get_recent_messages(10)"
   ]
  },
  {
   "cell_type": "code",
   "execution_count": null,
   "id": "ea17ff7e-2252-47a7-9588-f84885a8f46f",
   "metadata": {},
   "outputs": [],
   "source": []
  },
  {
   "cell_type": "code",
   "execution_count": null,
   "id": "58b63fbe-c4c9-4baa-8eb9-87e4857612a6",
   "metadata": {},
   "outputs": [],
   "source": []
  }
 ],
 "metadata": {
  "kernelspec": {
   "display_name": "Python 3 (ipykernel)",
   "language": "python",
   "name": "python3"
  },
  "language_info": {
   "codemirror_mode": {
    "name": "ipython",
    "version": 3
   },
   "file_extension": ".py",
   "mimetype": "text/x-python",
   "name": "python",
   "nbconvert_exporter": "python",
   "pygments_lexer": "ipython3",
   "version": "3.11.11"
  }
 },
 "nbformat": 4,
 "nbformat_minor": 5
}
